{
 "cells": [
  {
   "cell_type": "code",
   "execution_count": 1,
   "metadata": {},
   "outputs": [],
   "source": [
    "import os\n",
    "os.chdir('/Users/adityapatel/personal/projects/git/clash/')"
   ]
  },
  {
   "cell_type": "code",
   "execution_count": 2,
   "metadata": {},
   "outputs": [],
   "source": [
    "import pymysql\n",
    "import pymysql.cursors\n",
    "import config\n",
    "import pandas as pd\n",
    "import seaborn as sns"
   ]
  },
  {
   "cell_type": "code",
   "execution_count": 3,
   "metadata": {},
   "outputs": [],
   "source": [
    "import sqlalchemy"
   ]
  },
  {
   "cell_type": "code",
   "execution_count": 4,
   "metadata": {},
   "outputs": [],
   "source": [
    "import matplotlib.pylab as plt"
   ]
  },
  {
   "cell_type": "code",
   "execution_count": 5,
   "metadata": {},
   "outputs": [],
   "source": [
    "from app.compute.player_stats import PlayerStats"
   ]
  },
  {
   "cell_type": "code",
   "execution_count": 6,
   "metadata": {},
   "outputs": [],
   "source": [
    "%matplotlib inline"
   ]
  },
  {
   "cell_type": "code",
   "execution_count": 7,
   "metadata": {},
   "outputs": [],
   "source": [
    "sns.set()"
   ]
  },
  {
   "cell_type": "code",
   "execution_count": null,
   "metadata": {},
   "outputs": [],
   "source": []
  },
  {
   "cell_type": "code",
   "execution_count": 8,
   "metadata": {},
   "outputs": [],
   "source": [
    "connection = pymysql.connect(host=config._mysql_host,\n",
    "                             user=config._mysql_user,\n",
    "                             password=config._mysql_password,\n",
    "                             db=config._mysql_db,\n",
    "                             port=config._mysql_port,\n",
    "                             charset='utf8mb4',\n",
    "                             cursorclass=pymysql.cursors.DictCursor)"
   ]
  },
  {
   "cell_type": "code",
   "execution_count": 9,
   "metadata": {},
   "outputs": [],
   "source": [
    "sql = '''\n",
    "select * from player_stats_historic\n",
    "'''"
   ]
  },
  {
   "cell_type": "code",
   "execution_count": 10,
   "metadata": {},
   "outputs": [],
   "source": [
    "with connection.cursor() as cursor:\n",
    "    # Create a new record\n",
    "    cursor.execute(sql)\n",
    "    results = cursor.fetchall()"
   ]
  },
  {
   "cell_type": "code",
   "execution_count": 11,
   "metadata": {},
   "outputs": [],
   "source": [
    "df = pd.DataFrame(results)"
   ]
  },
  {
   "cell_type": "code",
   "execution_count": 12,
   "metadata": {},
   "outputs": [
    {
     "data": {
      "text/plain": [
       "(27287, 23)"
      ]
     },
     "execution_count": 12,
     "metadata": {},
     "output_type": "execute_result"
    }
   ],
   "source": [
    "df.shape"
   ]
  },
  {
   "cell_type": "code",
   "execution_count": 13,
   "metadata": {},
   "outputs": [
    {
     "name": "stdout",
     "output_type": "stream",
     "text": [
      "There were 312 unique members in the clan\n"
     ]
    }
   ],
   "source": [
    "unique_members = df['player_tag'].unique()\n",
    "print(\"There were {} unique members in the clan\".format(len(unique_members)))"
   ]
  },
  {
   "cell_type": "code",
   "execution_count": 14,
   "metadata": {},
   "outputs": [],
   "source": [
    "df_names = ['tobias']"
   ]
  },
  {
   "cell_type": "code",
   "execution_count": 32,
   "metadata": {},
   "outputs": [],
   "source": [
    "df_top = df[df['player_name']=='Tobias']"
   ]
  },
  {
   "cell_type": "code",
   "execution_count": null,
   "metadata": {},
   "outputs": [],
   "source": []
  },
  {
   "cell_type": "code",
   "execution_count": 33,
   "metadata": {},
   "outputs": [],
   "source": [
    "# df_top = df[df['player_name'].isin(df_names)]"
   ]
  },
  {
   "cell_type": "code",
   "execution_count": 34,
   "metadata": {},
   "outputs": [
    {
     "data": {
      "text/plain": [
       "array(['Tobias'], dtype=object)"
      ]
     },
     "execution_count": 34,
     "metadata": {},
     "output_type": "execute_result"
    }
   ],
   "source": [
    "df_top['player_name'].unique()"
   ]
  },
  {
   "cell_type": "code",
   "execution_count": 49,
   "metadata": {},
   "outputs": [],
   "source": [
    "for_aiur = df[df['clan_tag'] == '#YUPCJJCR']"
   ]
  },
  {
   "cell_type": "code",
   "execution_count": 51,
   "metadata": {},
   "outputs": [
    {
     "data": {
      "text/plain": [
       "50"
      ]
     },
     "execution_count": 51,
     "metadata": {},
     "output_type": "execute_result"
    }
   ],
   "source": [
    "len(for_aiur['player_name'].unique())"
   ]
  },
  {
   "cell_type": "code",
   "execution_count": 109,
   "metadata": {},
   "outputs": [],
   "source": [
    "frames = []\n",
    "metric = 'achv_gold_looted'\n",
    "\n",
    "df_top = for_aiur.copy(deep=True)\n",
    "\n",
    "for player_name in df_top['player_name'].unique():\n",
    "    \n",
    "    df_player = df_top[df_top['player_name'] == player_name]\n",
    "    \n",
    "    df_player = df_player[~df_player[metric].isna()]\n",
    "    \n",
    "    first_ts = df_player['created_time'].min()\n",
    "    min_metric = df_player.loc[df_player['created_time'] == first_ts][metric]\n",
    "    \n",
    "    df_player[metric] = df_player[metric] - int(min_metric)\n",
    "    \n",
    "    frames.append(df_player)"
   ]
  },
  {
   "cell_type": "code",
   "execution_count": 110,
   "metadata": {},
   "outputs": [],
   "source": [
    "elix_df = pd.concat(frames)"
   ]
  },
  {
   "cell_type": "code",
   "execution_count": null,
   "metadata": {},
   "outputs": [],
   "source": []
  },
  {
   "cell_type": "code",
   "execution_count": null,
   "metadata": {},
   "outputs": [],
   "source": []
  },
  {
   "cell_type": "code",
   "execution_count": 112,
   "metadata": {},
   "outputs": [],
   "source": [
    "elix_df_grouped = elix_df.groupby('player_name').agg({metric: 'mean', 'created_time':'min'}).reset_index()"
   ]
  },
  {
   "cell_type": "code",
   "execution_count": 113,
   "metadata": {},
   "outputs": [
    {
     "data": {
      "text/html": [
       "<div>\n",
       "<style scoped>\n",
       "    .dataframe tbody tr th:only-of-type {\n",
       "        vertical-align: middle;\n",
       "    }\n",
       "\n",
       "    .dataframe tbody tr th {\n",
       "        vertical-align: top;\n",
       "    }\n",
       "\n",
       "    .dataframe thead th {\n",
       "        text-align: right;\n",
       "    }\n",
       "</style>\n",
       "<table border=\"1\" class=\"dataframe\">\n",
       "  <thead>\n",
       "    <tr style=\"text-align: right;\">\n",
       "      <th></th>\n",
       "      <th>player_name</th>\n",
       "      <th>achv_gold_looted</th>\n",
       "      <th>created_time</th>\n",
       "    </tr>\n",
       "  </thead>\n",
       "  <tbody>\n",
       "    <tr>\n",
       "      <th>0</th>\n",
       "      <td>*(paul.67</td>\n",
       "      <td>0.0</td>\n",
       "      <td>2019-04-09 14:03:07</td>\n",
       "    </tr>\n",
       "    <tr>\n",
       "      <th>1</th>\n",
       "      <td>AlvinMd</td>\n",
       "      <td>0.0</td>\n",
       "      <td>2019-04-09 14:03:07</td>\n",
       "    </tr>\n",
       "    <tr>\n",
       "      <th>2</th>\n",
       "      <td>Jacob</td>\n",
       "      <td>0.0</td>\n",
       "      <td>2019-04-09 14:03:04</td>\n",
       "    </tr>\n",
       "    <tr>\n",
       "      <th>3</th>\n",
       "      <td>MonsterKart</td>\n",
       "      <td>0.0</td>\n",
       "      <td>2019-04-09 14:03:04</td>\n",
       "    </tr>\n",
       "    <tr>\n",
       "      <th>4</th>\n",
       "      <td>Tobias</td>\n",
       "      <td>0.0</td>\n",
       "      <td>2019-04-09 14:03:11</td>\n",
       "    </tr>\n",
       "    <tr>\n",
       "      <th>5</th>\n",
       "      <td>Tragiic Payday</td>\n",
       "      <td>0.0</td>\n",
       "      <td>2019-04-09 14:03:05</td>\n",
       "    </tr>\n",
       "    <tr>\n",
       "      <th>6</th>\n",
       "      <td>morrison</td>\n",
       "      <td>0.0</td>\n",
       "      <td>2019-04-09 14:03:06</td>\n",
       "    </tr>\n",
       "    <tr>\n",
       "      <th>7</th>\n",
       "      <td>twintowers2</td>\n",
       "      <td>0.0</td>\n",
       "      <td>2019-04-09 14:03:04</td>\n",
       "    </tr>\n",
       "    <tr>\n",
       "      <th>8</th>\n",
       "      <td>yo yo zaid rock</td>\n",
       "      <td>0.0</td>\n",
       "      <td>2019-04-09 14:03:09</td>\n",
       "    </tr>\n",
       "  </tbody>\n",
       "</table>\n",
       "</div>"
      ],
      "text/plain": [
       "       player_name  achv_gold_looted        created_time\n",
       "0        *(paul.67               0.0 2019-04-09 14:03:07\n",
       "1          AlvinMd               0.0 2019-04-09 14:03:07\n",
       "2            Jacob               0.0 2019-04-09 14:03:04\n",
       "3      MonsterKart               0.0 2019-04-09 14:03:04\n",
       "4           Tobias               0.0 2019-04-09 14:03:11\n",
       "5   Tragiic Payday               0.0 2019-04-09 14:03:05\n",
       "6         morrison               0.0 2019-04-09 14:03:06\n",
       "7      twintowers2               0.0 2019-04-09 14:03:04\n",
       "8  yo yo zaid rock               0.0 2019-04-09 14:03:09"
      ]
     },
     "execution_count": 113,
     "metadata": {},
     "output_type": "execute_result"
    }
   ],
   "source": [
    "elix_df_grouped[elix_df_grouped[metric] == 0].reset_index(drop=True)"
   ]
  },
  {
   "cell_type": "code",
   "execution_count": null,
   "metadata": {},
   "outputs": [],
   "source": []
  },
  {
   "cell_type": "code",
   "execution_count": 124,
   "metadata": {},
   "outputs": [
    {
     "data": {
      "text/html": [
       "<div>\n",
       "<style scoped>\n",
       "    .dataframe tbody tr th:only-of-type {\n",
       "        vertical-align: middle;\n",
       "    }\n",
       "\n",
       "    .dataframe tbody tr th {\n",
       "        vertical-align: top;\n",
       "    }\n",
       "\n",
       "    .dataframe thead th {\n",
       "        text-align: right;\n",
       "    }\n",
       "</style>\n",
       "<table border=\"1\" class=\"dataframe\">\n",
       "  <thead>\n",
       "    <tr style=\"text-align: right;\">\n",
       "      <th></th>\n",
       "      <th>player_name</th>\n",
       "      <th>achv_gold_looted</th>\n",
       "      <th>created_time</th>\n",
       "    </tr>\n",
       "  </thead>\n",
       "  <tbody>\n",
       "    <tr>\n",
       "      <th>2</th>\n",
       "      <td>BRADY</td>\n",
       "      <td>18264055.0</td>\n",
       "      <td>2019-04-09 14:03:03</td>\n",
       "    </tr>\n",
       "    <tr>\n",
       "      <th>8</th>\n",
       "      <td>Fire attack2000</td>\n",
       "      <td>14076929.0</td>\n",
       "      <td>2019-04-09 14:03:04</td>\n",
       "    </tr>\n",
       "    <tr>\n",
       "      <th>30</th>\n",
       "      <td>Swedish Sailor</td>\n",
       "      <td>10857345.0</td>\n",
       "      <td>2019-04-09 14:03:06</td>\n",
       "    </tr>\n",
       "    <tr>\n",
       "      <th>40</th>\n",
       "      <td>dana</td>\n",
       "      <td>9653801.0</td>\n",
       "      <td>2019-04-09 14:03:06</td>\n",
       "    </tr>\n",
       "    <tr>\n",
       "      <th>15</th>\n",
       "      <td>MM</td>\n",
       "      <td>8848281.0</td>\n",
       "      <td>2019-04-09 14:03:07</td>\n",
       "    </tr>\n",
       "    <tr>\n",
       "      <th>35</th>\n",
       "      <td>Troop Donator</td>\n",
       "      <td>6656055.0</td>\n",
       "      <td>2019-04-09 14:03:07</td>\n",
       "    </tr>\n",
       "    <tr>\n",
       "      <th>12</th>\n",
       "      <td>J.K</td>\n",
       "      <td>5064966.0</td>\n",
       "      <td>2019-04-09 14:03:08</td>\n",
       "    </tr>\n",
       "    <tr>\n",
       "      <th>38</th>\n",
       "      <td>adi</td>\n",
       "      <td>4685549.0</td>\n",
       "      <td>2019-04-09 14:03:05</td>\n",
       "    </tr>\n",
       "    <tr>\n",
       "      <th>41</th>\n",
       "      <td>david</td>\n",
       "      <td>4575767.0</td>\n",
       "      <td>2019-04-09 14:03:05</td>\n",
       "    </tr>\n",
       "    <tr>\n",
       "      <th>16</th>\n",
       "      <td>MR-G</td>\n",
       "      <td>4245460.0</td>\n",
       "      <td>2019-04-09 14:03:09</td>\n",
       "    </tr>\n",
       "    <tr>\n",
       "      <th>4</th>\n",
       "      <td>Carter234</td>\n",
       "      <td>3110427.0</td>\n",
       "      <td>2019-04-09 14:03:10</td>\n",
       "    </tr>\n",
       "    <tr>\n",
       "      <th>32</th>\n",
       "      <td>Syn</td>\n",
       "      <td>3092278.0</td>\n",
       "      <td>2019-04-09 14:03:02</td>\n",
       "    </tr>\n",
       "    <tr>\n",
       "      <th>5</th>\n",
       "      <td>Cockers</td>\n",
       "      <td>3047624.0</td>\n",
       "      <td>2019-04-09 14:03:03</td>\n",
       "    </tr>\n",
       "    <tr>\n",
       "      <th>27</th>\n",
       "      <td>Pumclart</td>\n",
       "      <td>2571639.0</td>\n",
       "      <td>2019-04-09 14:03:02</td>\n",
       "    </tr>\n",
       "    <tr>\n",
       "      <th>25</th>\n",
       "      <td>Moo 3</td>\n",
       "      <td>2565281.0</td>\n",
       "      <td>2019-04-09 14:03:08</td>\n",
       "    </tr>\n",
       "    <tr>\n",
       "      <th>39</th>\n",
       "      <td>andy</td>\n",
       "      <td>2562098.0</td>\n",
       "      <td>2019-04-09 14:03:05</td>\n",
       "    </tr>\n",
       "    <tr>\n",
       "      <th>46</th>\n",
       "      <td>tomatzin</td>\n",
       "      <td>2081198.0</td>\n",
       "      <td>2019-04-09 14:03:04</td>\n",
       "    </tr>\n",
       "    <tr>\n",
       "      <th>20</th>\n",
       "      <td>Mason</td>\n",
       "      <td>1920258.0</td>\n",
       "      <td>2019-04-09 14:03:07</td>\n",
       "    </tr>\n",
       "    <tr>\n",
       "      <th>43</th>\n",
       "      <td>knottynub</td>\n",
       "      <td>1704613.0</td>\n",
       "      <td>2019-04-09 14:03:05</td>\n",
       "    </tr>\n",
       "    <tr>\n",
       "      <th>19</th>\n",
       "      <td>MT</td>\n",
       "      <td>1674205.0</td>\n",
       "      <td>2019-04-09 14:03:03</td>\n",
       "    </tr>\n",
       "    <tr>\n",
       "      <th>7</th>\n",
       "      <td>DeanC528</td>\n",
       "      <td>1594298.0</td>\n",
       "      <td>2019-04-09 14:03:06</td>\n",
       "    </tr>\n",
       "    <tr>\n",
       "      <th>26</th>\n",
       "      <td>PhoenixxEU</td>\n",
       "      <td>1352092.0</td>\n",
       "      <td>2019-04-09 14:03:03</td>\n",
       "    </tr>\n",
       "    <tr>\n",
       "      <th>11</th>\n",
       "      <td>IDABALLTHETIME</td>\n",
       "      <td>1025920.0</td>\n",
       "      <td>2019-04-09 14:03:06</td>\n",
       "    </tr>\n",
       "    <tr>\n",
       "      <th>17</th>\n",
       "      <td>MR.MAGIC</td>\n",
       "      <td>840478.0</td>\n",
       "      <td>2019-04-09 14:03:11</td>\n",
       "    </tr>\n",
       "    <tr>\n",
       "      <th>23</th>\n",
       "      <td>Moo</td>\n",
       "      <td>803592.0</td>\n",
       "      <td>2019-04-09 14:03:04</td>\n",
       "    </tr>\n",
       "    <tr>\n",
       "      <th>31</th>\n",
       "      <td>Sylar</td>\n",
       "      <td>782549.0</td>\n",
       "      <td>2019-04-09 14:03:09</td>\n",
       "    </tr>\n",
       "    <tr>\n",
       "      <th>44</th>\n",
       "      <td>melko</td>\n",
       "      <td>703528.0</td>\n",
       "      <td>2019-04-09 14:03:11</td>\n",
       "    </tr>\n",
       "    <tr>\n",
       "      <th>3</th>\n",
       "      <td>Bootz</td>\n",
       "      <td>553189.0</td>\n",
       "      <td>2019-04-09 14:03:08</td>\n",
       "    </tr>\n",
       "    <tr>\n",
       "      <th>42</th>\n",
       "      <td>draco</td>\n",
       "      <td>458093.0</td>\n",
       "      <td>2019-04-09 14:03:04</td>\n",
       "    </tr>\n",
       "    <tr>\n",
       "      <th>6</th>\n",
       "      <td>Cockers 2</td>\n",
       "      <td>366337.0</td>\n",
       "      <td>2019-04-09 14:03:03</td>\n",
       "    </tr>\n",
       "    <tr>\n",
       "      <th>18</th>\n",
       "      <td>MRS.LIGHTNING</td>\n",
       "      <td>359086.0</td>\n",
       "      <td>2019-04-09 14:03:08</td>\n",
       "    </tr>\n",
       "    <tr>\n",
       "      <th>10</th>\n",
       "      <td>Hempire101</td>\n",
       "      <td>299284.0</td>\n",
       "      <td>2019-04-09 14:03:06</td>\n",
       "    </tr>\n",
       "    <tr>\n",
       "      <th>28</th>\n",
       "      <td>Pums Revenge</td>\n",
       "      <td>244820.0</td>\n",
       "      <td>2019-04-09 14:03:03</td>\n",
       "    </tr>\n",
       "    <tr>\n",
       "      <th>36</th>\n",
       "      <td>Twana BarBer</td>\n",
       "      <td>235149.0</td>\n",
       "      <td>2019-04-09 14:03:07</td>\n",
       "    </tr>\n",
       "    <tr>\n",
       "      <th>9</th>\n",
       "      <td>Funone</td>\n",
       "      <td>125000.0</td>\n",
       "      <td>2019-04-10 22:04:28</td>\n",
       "    </tr>\n",
       "    <tr>\n",
       "      <th>24</th>\n",
       "      <td>Moo 2</td>\n",
       "      <td>110800.0</td>\n",
       "      <td>2019-04-09 14:03:05</td>\n",
       "    </tr>\n",
       "    <tr>\n",
       "      <th>14</th>\n",
       "      <td>KeTaN</td>\n",
       "      <td>107797.0</td>\n",
       "      <td>2019-04-09 14:03:13</td>\n",
       "    </tr>\n",
       "    <tr>\n",
       "      <th>49</th>\n",
       "      <td>zaidthearceus</td>\n",
       "      <td>58000.0</td>\n",
       "      <td>2019-04-09 14:03:10</td>\n",
       "    </tr>\n",
       "    <tr>\n",
       "      <th>29</th>\n",
       "      <td>Slater1166</td>\n",
       "      <td>28000.0</td>\n",
       "      <td>2019-04-09 14:03:07</td>\n",
       "    </tr>\n",
       "    <tr>\n",
       "      <th>21</th>\n",
       "      <td>Molty</td>\n",
       "      <td>22800.0</td>\n",
       "      <td>2019-04-09 14:03:08</td>\n",
       "    </tr>\n",
       "    <tr>\n",
       "      <th>37</th>\n",
       "      <td>XxDeanC528xX</td>\n",
       "      <td>7220.0</td>\n",
       "      <td>2019-04-09 14:03:12</td>\n",
       "    </tr>\n",
       "    <tr>\n",
       "      <th>34</th>\n",
       "      <td>Tragiic Payday</td>\n",
       "      <td>0.0</td>\n",
       "      <td>2019-04-09 14:03:05</td>\n",
       "    </tr>\n",
       "    <tr>\n",
       "      <th>33</th>\n",
       "      <td>Tobias</td>\n",
       "      <td>0.0</td>\n",
       "      <td>2019-04-09 14:03:11</td>\n",
       "    </tr>\n",
       "    <tr>\n",
       "      <th>1</th>\n",
       "      <td>AlvinMd</td>\n",
       "      <td>0.0</td>\n",
       "      <td>2019-04-09 14:03:07</td>\n",
       "    </tr>\n",
       "    <tr>\n",
       "      <th>22</th>\n",
       "      <td>MonsterKart</td>\n",
       "      <td>0.0</td>\n",
       "      <td>2019-04-09 14:03:04</td>\n",
       "    </tr>\n",
       "    <tr>\n",
       "      <th>45</th>\n",
       "      <td>morrison</td>\n",
       "      <td>0.0</td>\n",
       "      <td>2019-04-09 14:03:06</td>\n",
       "    </tr>\n",
       "    <tr>\n",
       "      <th>13</th>\n",
       "      <td>Jacob</td>\n",
       "      <td>0.0</td>\n",
       "      <td>2019-04-09 14:03:04</td>\n",
       "    </tr>\n",
       "    <tr>\n",
       "      <th>47</th>\n",
       "      <td>twintowers2</td>\n",
       "      <td>0.0</td>\n",
       "      <td>2019-04-09 14:03:04</td>\n",
       "    </tr>\n",
       "    <tr>\n",
       "      <th>48</th>\n",
       "      <td>yo yo zaid rock</td>\n",
       "      <td>0.0</td>\n",
       "      <td>2019-04-09 14:03:09</td>\n",
       "    </tr>\n",
       "    <tr>\n",
       "      <th>0</th>\n",
       "      <td>*(paul.67</td>\n",
       "      <td>0.0</td>\n",
       "      <td>2019-04-09 14:03:07</td>\n",
       "    </tr>\n",
       "  </tbody>\n",
       "</table>\n",
       "</div>"
      ],
      "text/plain": [
       "        player_name  achv_gold_looted        created_time\n",
       "2             BRADY        18264055.0 2019-04-09 14:03:03\n",
       "8   Fire attack2000        14076929.0 2019-04-09 14:03:04\n",
       "30   Swedish Sailor        10857345.0 2019-04-09 14:03:06\n",
       "40             dana         9653801.0 2019-04-09 14:03:06\n",
       "15               MM         8848281.0 2019-04-09 14:03:07\n",
       "35    Troop Donator         6656055.0 2019-04-09 14:03:07\n",
       "12              J.K         5064966.0 2019-04-09 14:03:08\n",
       "38              adi         4685549.0 2019-04-09 14:03:05\n",
       "41            david         4575767.0 2019-04-09 14:03:05\n",
       "16             MR-G         4245460.0 2019-04-09 14:03:09\n",
       "4         Carter234         3110427.0 2019-04-09 14:03:10\n",
       "32              Syn         3092278.0 2019-04-09 14:03:02\n",
       "5           Cockers         3047624.0 2019-04-09 14:03:03\n",
       "27         Pumclart         2571639.0 2019-04-09 14:03:02\n",
       "25            Moo 3         2565281.0 2019-04-09 14:03:08\n",
       "39             andy         2562098.0 2019-04-09 14:03:05\n",
       "46         tomatzin         2081198.0 2019-04-09 14:03:04\n",
       "20            Mason         1920258.0 2019-04-09 14:03:07\n",
       "43        knottynub         1704613.0 2019-04-09 14:03:05\n",
       "19               MT         1674205.0 2019-04-09 14:03:03\n",
       "7          DeanC528         1594298.0 2019-04-09 14:03:06\n",
       "26       PhoenixxEU         1352092.0 2019-04-09 14:03:03\n",
       "11   IDABALLTHETIME         1025920.0 2019-04-09 14:03:06\n",
       "17         MR.MAGIC          840478.0 2019-04-09 14:03:11\n",
       "23              Moo          803592.0 2019-04-09 14:03:04\n",
       "31            Sylar          782549.0 2019-04-09 14:03:09\n",
       "44            melko          703528.0 2019-04-09 14:03:11\n",
       "3             Bootz          553189.0 2019-04-09 14:03:08\n",
       "42            draco          458093.0 2019-04-09 14:03:04\n",
       "6         Cockers 2          366337.0 2019-04-09 14:03:03\n",
       "18    MRS.LIGHTNING          359086.0 2019-04-09 14:03:08\n",
       "10       Hempire101          299284.0 2019-04-09 14:03:06\n",
       "28     Pums Revenge          244820.0 2019-04-09 14:03:03\n",
       "36     Twana BarBer          235149.0 2019-04-09 14:03:07\n",
       "9            Funone          125000.0 2019-04-10 22:04:28\n",
       "24            Moo 2          110800.0 2019-04-09 14:03:05\n",
       "14            KeTaN          107797.0 2019-04-09 14:03:13\n",
       "49    zaidthearceus           58000.0 2019-04-09 14:03:10\n",
       "29       Slater1166           28000.0 2019-04-09 14:03:07\n",
       "21            Molty           22800.0 2019-04-09 14:03:08\n",
       "37     XxDeanC528xX            7220.0 2019-04-09 14:03:12\n",
       "34   Tragiic Payday               0.0 2019-04-09 14:03:05\n",
       "33           Tobias               0.0 2019-04-09 14:03:11\n",
       "1           AlvinMd               0.0 2019-04-09 14:03:07\n",
       "22      MonsterKart               0.0 2019-04-09 14:03:04\n",
       "45         morrison               0.0 2019-04-09 14:03:06\n",
       "13            Jacob               0.0 2019-04-09 14:03:04\n",
       "47      twintowers2               0.0 2019-04-09 14:03:04\n",
       "48  yo yo zaid rock               0.0 2019-04-09 14:03:09\n",
       "0         *(paul.67               0.0 2019-04-09 14:03:07"
      ]
     },
     "execution_count": 124,
     "metadata": {},
     "output_type": "execute_result"
    }
   ],
   "source": [
    "elix_df.groupby('player_name').agg({metric: 'max', \n",
    "                                   'created_time':'min'}).reset_index().sort_values(metric, ascending=False)"
   ]
  },
  {
   "cell_type": "code",
   "execution_count": 114,
   "metadata": {},
   "outputs": [
    {
     "data": {
      "text/plain": [
       "<matplotlib.axes._subplots.AxesSubplot at 0x124b07f60>"
      ]
     },
     "execution_count": 114,
     "metadata": {},
     "output_type": "execute_result"
    },
    {
     "data": {
      "image/png": "[encoded data removed]",
      "text/plain": [
       "<Figure size 1152x432 with 1 Axes>"
      ]
     },
     "metadata": {},
     "output_type": "display_data"
    }
   ],
   "source": [
    "plt.figure(figsize=(16, 6))\n",
    "sns.lineplot(x='created_time', y=metric, data=elix_df, hue='player_name')"
   ]
  },
  {
   "cell_type": "code",
   "execution_count": 39,
   "metadata": {},
   "outputs": [],
   "source": [
    "from app.models import PlayerStatsHistoric"
   ]
  },
  {
   "cell_type": "code",
   "execution_count": null,
   "metadata": {},
   "outputs": [],
   "source": []
  },
  {
   "cell_type": "code",
   "execution_count": null,
   "metadata": {},
   "outputs": [],
   "source": [
    "import pymysql\n",
    "import pymysql.cursors\n",
    "import config\n",
    "import pandas as pd\n",
    "import seaborn as sns\n",
    "\n",
    "import sqlalchemy\n",
    "\n",
    "import matplotlib.pylab as plt\n",
    "\n",
    "from app.compute.player_stats import PlayerStats\n",
    "\n",
    "%matplotlib inline\n",
    "\n",
    "sns.set()\n",
    "\n",
    "\n",
    "\n",
    "connection = pymysql.connect(host=config._mysql_host,\n",
    "                             user=config._mysql_user,\n",
    "                             password=config._mysql_password,\n",
    "                             db=config._mysql_db,\n",
    "                             port=config._mysql_port,\n",
    "                             charset='utf8mb4',\n",
    "                             cursorclass=pymysql.cursors.DictCursor)\n",
    "\n",
    "sql = '''\n",
    "select * from player_stats_historic\n",
    "'''\n",
    "\n",
    "with connection.cursor() as cursor:\n",
    "    # Create a new record\n",
    "    cursor.execute(sql)\n",
    "    results = cursor.fetchall()\n",
    "\n",
    "df = pd.DataFrame(results)"
   ]
  }
 ],
 "metadata": {
  "kernelspec": {
   "display_name": "Python 3",
   "language": "python",
   "name": "python3"
  },
  "language_info": {
   "codemirror_mode": {
    "name": "ipython",
    "version": 3
   },
   "file_extension": ".py",
   "mimetype": "text/x-python",
   "name": "python",
   "nbconvert_exporter": "python",
   "pygments_lexer": "ipython3",
   "version": "3.7.0"
  }
 },
 "nbformat": 4,
 "nbformat_minor": 2
}

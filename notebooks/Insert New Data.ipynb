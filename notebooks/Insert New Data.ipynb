{
 "cells": [
  {
   "cell_type": "code",
   "execution_count": 1,
   "metadata": {},
   "outputs": [],
   "source": [
    "import os\n",
    "os.chdir('/Users/adityapatel/personal/projects/git/clash')"
   ]
  },
  {
   "cell_type": "code",
   "execution_count": 2,
   "metadata": {},
   "outputs": [],
   "source": [
    "import clashapp.feeder as feeder\n",
    "import config\n",
    "from clashapp import db"
   ]
  },
  {
   "cell_type": "code",
   "execution_count": 3,
   "metadata": {},
   "outputs": [],
   "source": [
    "SEASON2_CLAN_LIST = ['#9L8QLQ9U', '#28GP9VJLL', '#GP0UP0CG', '#9JG02C0Q', '#8UGQ208P', '#9YRCG02Y', '#9LR0V8LG']"
   ]
  },
  {
   "cell_type": "code",
   "execution_count": 4,
   "metadata": {},
   "outputs": [],
   "source": [
    "# feeder.populate_clan_details_init()"
   ]
  },
  {
   "cell_type": "code",
   "execution_count": 5,
   "metadata": {},
   "outputs": [],
   "source": [
    "# feeder.populate_historic_clan_details(clan_tag)"
   ]
  },
  {
   "cell_type": "code",
   "execution_count": 6,
   "metadata": {},
   "outputs": [
    {
     "name": "stdout",
     "output_type": "stream",
     "text": [
      "Sorry, clan 'Gangs of 'G'' has already been created\n",
      "Sorry, clan 'Friends' has already been created\n",
      "Sorry, clan 'Belgian Giants' has already been created\n",
      "Sorry, clan 'Karma Rising' has already been created\n",
      "Sorry, clan 'امپراطوری47' has already been created\n",
      "Sorry, clan 'portugal embale' has already been created\n",
      "Sorry, clan 'YOUNITY' has already been created\n"
     ]
    }
   ],
   "source": [
    "for clan in SEASON2_CLAN_LIST:\n",
    "    feeder.populate_clan_details_init(clan)\n",
    "    feeder.populate_historic_clan_details(clan)"
   ]
  },
  {
   "cell_type": "code",
   "execution_count": null,
   "metadata": {},
   "outputs": [],
   "source": []
  },
  {
   "cell_type": "code",
   "execution_count": null,
   "metadata": {},
   "outputs": [],
   "source": []
  },
  {
   "cell_type": "code",
   "execution_count": 11,
   "metadata": {},
   "outputs": [],
   "source": [
    "from clashapp.models import PlayerStatsCurrent, ClanStatsCurrent, PlayerStatsHistoric"
   ]
  },
  {
   "cell_type": "code",
   "execution_count": 18,
   "metadata": {},
   "outputs": [],
   "source": [
    "clan_tags = [clan.clan_tag for clan in ClanStatsCurrent.query.all()]"
   ]
  },
  {
   "cell_type": "code",
   "execution_count": 19,
   "metadata": {},
   "outputs": [
    {
     "data": {
      "text/plain": [
       "['#90222JLR',\n",
       " '#PRUUUG0Y',\n",
       " '#VGLLPY0',\n",
       " '#2QVLQ0YY',\n",
       " '#LQ28YUCU',\n",
       " '#PLYGV9P0',\n",
       " '#8LL2C92R',\n",
       " '#YUPCJJCR',\n",
       " '#9L8QLQ9U',\n",
       " '#28GP9VJLL',\n",
       " '#GP0UP0CG',\n",
       " '#9JG02C0Q',\n",
       " '#8UGQ208P',\n",
       " '#9YRCG02Y',\n",
       " '#9LR0V8LG']"
      ]
     },
     "execution_count": 19,
     "metadata": {},
     "output_type": "execute_result"
    }
   ],
   "source": [
    "clan_tags"
   ]
  },
  {
   "cell_type": "code",
   "execution_count": null,
   "metadata": {},
   "outputs": [],
   "source": []
  }
 ],
 "metadata": {
  "kernelspec": {
   "display_name": "Python 3",
   "language": "python",
   "name": "python3"
  },
  "language_info": {
   "codemirror_mode": {
    "name": "ipython",
    "version": 3
   },
   "file_extension": ".py",
   "mimetype": "text/x-python",
   "name": "python",
   "nbconvert_exporter": "python",
   "pygments_lexer": "ipython3",
   "version": "3.7.0"
  }
 },
 "nbformat": 4,
 "nbformat_minor": 2
}

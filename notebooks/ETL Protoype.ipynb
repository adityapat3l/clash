{
 "cells": [
  {
   "cell_type": "code",
   "execution_count": 4,
   "metadata": {},
   "outputs": [],
   "source": [
    "import os\n",
    "os.chdir('/Users/adityapatel/personal/projects/git/clash')"
   ]
  },
  {
   "cell_type": "code",
   "execution_count": 5,
   "metadata": {},
   "outputs": [],
   "source": [
    "import pymysql\n",
    "import pymysql.cursors\n",
    "import config\n",
    "import pandas as pd\n",
    "import seaborn as sns"
   ]
  },
  {
   "cell_type": "code",
   "execution_count": 6,
   "metadata": {},
   "outputs": [],
   "source": [
    "import numpy as np"
   ]
  },
  {
   "cell_type": "code",
   "execution_count": 7,
   "metadata": {},
   "outputs": [],
   "source": [
    "import sqlalchemy"
   ]
  },
  {
   "cell_type": "code",
   "execution_count": 8,
   "metadata": {},
   "outputs": [],
   "source": [
    "sns.set()"
   ]
  },
  {
   "cell_type": "code",
   "execution_count": 30,
   "metadata": {},
   "outputs": [],
   "source": [
    "connection = pymysql.connect(host=config._mysql_host,\n",
    "                             user=config._mysql_user,\n",
    "                             password=config._mysql_password,\n",
    "                             db=config._mysql_db,\n",
    "                             port=config._mysql_port,\n",
    "                             charset='utf8mb4',\n",
    "                             cursorclass=pymysql.cursors.DictCursor)"
   ]
  },
  {
   "cell_type": "code",
   "execution_count": 31,
   "metadata": {},
   "outputs": [],
   "source": [
    "# engine = sqlalchemy.create_engine(config.MYSQL_URL)"
   ]
  },
  {
   "cell_type": "code",
   "execution_count": 48,
   "metadata": {},
   "outputs": [],
   "source": [
    "sql = '''\n",
    "select * from player_stats_historic\n",
    "'''"
   ]
  },
  {
   "cell_type": "code",
   "execution_count": 49,
   "metadata": {},
   "outputs": [],
   "source": [
    "with connection.cursor() as cursor:\n",
    "    # Create a new record\n",
    "    cursor.execute(sql)\n",
    "    results = cursor.fetchall()\n",
    "    "
   ]
  },
  {
   "cell_type": "code",
   "execution_count": 51,
   "metadata": {},
   "outputs": [],
   "source": [
    "df_raw = pd.DataFrame(results)"
   ]
  },
  {
   "cell_type": "code",
   "execution_count": 52,
   "metadata": {},
   "outputs": [],
   "source": [
    "df = df_raw.copy(deep = True)"
   ]
  },
  {
   "cell_type": "code",
   "execution_count": 55,
   "metadata": {},
   "outputs": [],
   "source": [
    "for_aiur = df[df['clan_tag'] == '#YUPCJJCR']"
   ]
  },
  {
   "cell_type": "code",
   "execution_count": 92,
   "metadata": {},
   "outputs": [],
   "source": [
    "max_time = for_aiur.loc[for_aiur.groupby('player_name')['created_time'].idxmax()].set_index('player_tag')"
   ]
  },
  {
   "cell_type": "code",
   "execution_count": 93,
   "metadata": {},
   "outputs": [],
   "source": [
    "min_time = for_aiur.loc[for_aiur.groupby('player_name')['created_time'].idxmin()].set_index('player_tag')"
   ]
  },
  {
   "cell_type": "code",
   "execution_count": null,
   "metadata": {},
   "outputs": [],
   "source": []
  },
  {
   "cell_type": "code",
   "execution_count": 94,
   "metadata": {},
   "outputs": [],
   "source": [
    "COLUMN_NAME = 'current_trophies'"
   ]
  },
  {
   "cell_type": "code",
   "execution_count": 98,
   "metadata": {},
   "outputs": [],
   "source": [
    "max_col_name = '{}_max'.format(COLUMN_NAME)\n",
    "min_col_name = '{}_min'.format(COLUMN_NAME)\n",
    "\n",
    "diff_time_df = max_time[['player_name', COLUMN_NAME]].join(min_time[[COLUMN_NAME]], lsuffix='_max', rsuffix='_min')\\\n",
    "                                        .rename(columns={max_col_name: 'max', min_col_name:'min' })"
   ]
  },
  {
   "cell_type": "code",
   "execution_count": 99,
   "metadata": {},
   "outputs": [],
   "source": [
    "diff_time_df['diff'] = diff_time_df['max'] - diff_time_df['min']"
   ]
  },
  {
   "cell_type": "code",
   "execution_count": 104,
   "metadata": {},
   "outputs": [],
   "source": [
    "diff_time_df.sort_values('diff', ascending=False, inplace=True)"
   ]
  },
  {
   "cell_type": "code",
   "execution_count": 106,
   "metadata": {},
   "outputs": [],
   "source": [
    "def get_improvement(df, player_tag, metric):\n",
    "    max_col_name = '{}_max'.format(metric)\n",
    "    min_col_name = '{}_min'.format(metric)\n",
    "    \n",
    "    for_aiur = df[df['clan_tag'] == '#YUPCJJCR']\n",
    "    \n",
    "    max_time = for_aiur.loc[for_aiur.groupby('player_name')['created_time'].idxmax()].set_index('player_tag')\n",
    "    min_time = for_aiur.loc[for_aiur.groupby('player_name')['created_time'].idxmin()].set_index('player_tag')\n",
    "    \n",
    "    diff_time_df = max_time[['player_name', metric]].join(min_time[[metric]], lsuffix='_max', rsuffix='_min')\\\n",
    "                                        .rename(columns={max_col_name: 'max', min_col_name:'min' })\n",
    "    \n",
    "    diff_time_df['diff'] = diff_time_df['max'] - diff_time_df['min']\n",
    "    \n",
    "    diff_time_df.sort_values('diff', ascending=False, inplace=True)\n",
    "    \n",
    "    return diff_time_df"
   ]
  },
  {
   "cell_type": "code",
   "execution_count": 268,
   "metadata": {},
   "outputs": [],
   "source": [
    "# default_return_cols = ['player_name', 'player_tag', 'war_stars', 'current_trophies']\n",
    "class PlayerStats:\n",
    "    def __init__(self, full_hist_df):\n",
    "        self.full_hist_df = full_hist_df.copy(deep=True)\n",
    "        self.player_df = None\n",
    "\n",
    "        self.full_hist_df['player_name'] = self.full_hist_df['player_name'].str.lower()\n",
    "        \n",
    "    def set_player_tag(self, player_tag):\n",
    "        self.player_df = self.full_hist_df[self.full_hist_df['player_tag'] == player_tag]\n",
    "        \n",
    "    def get_clan_df(self, clan_tag):\n",
    "        self.clan_df =  self.full_hist_df[self.full_hist_df['clan_tag'] == clan_tag]\n",
    "        \n",
    "    def get_improvement_message(self, metric, player_tag=None, player_name=None):\n",
    "        \n",
    "        player_name = player_name.lower()\n",
    "        \n",
    "        assert player_tag or player_name, \"Please input either player_tag or player_name\"\n",
    "        \n",
    "        if player_name and not player_tag:\n",
    "            player_df = self.full_hist_df[self.full_hist_df['player_name'] == player_name]\n",
    "            \n",
    "#             return player_df\n",
    "            \n",
    "            player_tag_list = player_df['player_tag'].unique()\n",
    "            \n",
    "            if player_tag_list.shape[0] > 1:\n",
    "                raise ValueError(\"Duplicate Player Name. Please enter a player tag\")\n",
    "            else:\n",
    "                player_tag = player_tag_list[0]\n",
    "        else:\n",
    "            player_df = self.full_hist_df[self.full_hist_df['player_tag'] == player_tag]\n",
    "        \n",
    "        max_metric = player_df.loc[player_df['created_time'] == player_df['created_time'].max()][metric]\n",
    "        min_metric = player_df.loc[player_df['created_time'] == player_df['created_time'].min()][metric]\n",
    "        \n",
    "        diff = int(max_metric) - int(min_metric)\n",
    "        \n",
    "        message = '{player_name} changed {diff} in {metric}'.format(player_name=player_name.title(),\n",
    "                                                                    diff=diff,\n",
    "                                                                    metric=metric)\n",
    "        \n",
    "        return message       "
   ]
  },
  {
   "cell_type": "code",
   "execution_count": null,
   "metadata": {},
   "outputs": [],
   "source": []
  },
  {
   "cell_type": "code",
   "execution_count": 284,
   "metadata": {},
   "outputs": [
    {
     "data": {
      "text/plain": [
       "'Moo changed -21 in current_trophies'"
      ]
     },
     "execution_count": 284,
     "metadata": {},
     "output_type": "execute_result"
    }
   ],
   "source": [
    "PlayerStats(df).get_improvement_message('current_trophies', player_name='moo')"
   ]
  },
  {
   "cell_type": "code",
   "execution_count": null,
   "metadata": {},
   "outputs": [],
   "source": []
  },
  {
   "cell_type": "code",
   "execution_count": null,
   "metadata": {},
   "outputs": [],
   "source": []
  }
 ],
 "metadata": {
  "kernelspec": {
   "display_name": "Python 3",
   "language": "python",
   "name": "python3"
  },
  "language_info": {
   "codemirror_mode": {
    "name": "ipython",
    "version": 3
   },
   "file_extension": ".py",
   "mimetype": "text/x-python",
   "name": "python",
   "nbconvert_exporter": "python",
   "pygments_lexer": "ipython3",
   "version": "3.7.0"
  }
 },
 "nbformat": 4,
 "nbformat_minor": 2
}
